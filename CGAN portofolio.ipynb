{
 "cells": [
  {
   "cell_type": "code",
   "execution_count": 1,
   "id": "a0edffbd",
   "metadata": {},
   "outputs": [],
   "source": [
    "import os\n",
    "import torch\n",
    "from torch import nn, optim\n",
    "from jcopdl.callback import set_config, Callback\n",
    "from torchvision import datasets, transforms\n",
    "from torch.utils.data import DataLoader\n",
    "from torchvision.utils import save_image\n",
    "from IPython.display import Image\n",
    "\n",
    "os.makedirs(\"output\", exist_ok=True)"
   ]
  },
  {
   "cell_type": "code",
   "execution_count": 2,
   "id": "8d4ce988",
   "metadata": {},
   "outputs": [
    {
     "data": {
      "text/plain": [
       "'cpu'"
      ]
     },
     "execution_count": 2,
     "metadata": {},
     "output_type": "execute_result"
    }
   ],
   "source": [
    "device = (\"cuda:0\" if torch.cuda.is_available() else \"cpu\")\n",
    "device"
   ]
  },
  {
   "cell_type": "markdown",
   "id": "df2b9840",
   "metadata": {},
   "source": [
    "# Dataset dan Dataloader (hanya trainset)"
   ]
  },
  {
   "cell_type": "code",
   "execution_count": 4,
   "id": "9b304c51",
   "metadata": {},
   "outputs": [],
   "source": [
    "bs = 64\n",
    "\n",
    "transform = transforms.Compose([\n",
    "    transforms.Grayscale(),\n",
    "    transforms.ToTensor(), \n",
    "    transforms.Normalize([0.5], [0.5]) # supaya menjadi (-1, 1) supaya lebih stabil\n",
    "])\n",
    "\n",
    "train_set = datasets.ImageFolder(\"data/train\", transform=transform)\n",
    "trainloader = DataLoader(train_set, batch_size=bs, shuffle=True, num_workers=4)\n",
    "\n"
   ]
  },
  {
   "cell_type": "code",
   "execution_count": 5,
   "id": "8c47d78f",
   "metadata": {},
   "outputs": [
    {
     "data": {
      "text/plain": [
       "Dataset ImageFolder\n",
       "    Number of datapoints: 2000\n",
       "    Root location: data/train\n",
       "    StandardTransform\n",
       "Transform: Compose(\n",
       "               Grayscale(num_output_channels=1)\n",
       "               ToTensor()\n",
       "               Normalize(mean=[0.5], std=[0.5])\n",
       "           )"
      ]
     },
     "execution_count": 5,
     "metadata": {},
     "output_type": "execute_result"
    }
   ],
   "source": [
    "train_set"
   ]
  },
  {
   "cell_type": "code",
   "execution_count": 16,
   "id": "9ea59103",
   "metadata": {},
   "outputs": [
    {
     "name": "stdout",
     "output_type": "stream",
     "text": [
      "Overwriting model_cgan.py\n"
     ]
    }
   ],
   "source": [
    "%%writefile model_cgan.py\n",
    "\n",
    "import torch\n",
    "from torch import nn\n",
    "from jcopdl.layers import linear_block\n",
    "\n",
    "\n",
    "class Discriminator(nn.Module):\n",
    "    def __init__(self, n_classes):\n",
    "        super().__init__()\n",
    "        self.flatten = nn.Flatten()\n",
    "        self.embed_label = nn.Embedding(n_classes, n_classes)\n",
    "        self.fc = nn.Sequential(\n",
    "            linear_block(784 + n_classes, 512, activation=\"lrelu\"),\n",
    "            linear_block(512, 256, activation=\"lrelu\"),\n",
    "            linear_block(256, 128, activation=\"lrelu\"),\n",
    "            linear_block(128, 1, activation=\"sigmoid\")\n",
    "        )\n",
    "    def forward(self, x, y):\n",
    "        x = self.flatten(x)\n",
    "        y = self.embed_label(y)\n",
    "        x = torch.cat([x, y], dim=1)\n",
    "        return self.fc(x)\n",
    "    \n",
    "class Generator(nn.Module):\n",
    "    def __init__(self, z_dim, n_classes):\n",
    "        super().__init__()\n",
    "        self.z_dim = z_dim\n",
    "        self.embed_label = nn.Embedding(n_classes, n_classes)\n",
    "        self.fc = nn.Sequential(\n",
    "            linear_block(z_dim + n_classes, 128, activation=\"lrelu\"),\n",
    "            linear_block(128, 256, activation=\"lrelu\", batch_norm=True),\n",
    "            linear_block(256, 512, activation=\"lrelu\", batch_norm=True),\n",
    "            linear_block(512, 1024, activation=\"lrelu\", batch_norm=True),\n",
    "            linear_block(1024, 784, activation=\"tanh\")\n",
    "        )\n",
    "        \n",
    "    def forward(self, x, y):\n",
    "        y = self.embed_label(y)\n",
    "        x = torch.cat([x, y], dim=1)\n",
    "        return self.fc(x)\n",
    "    \n",
    "    def generate(self, labels, device):\n",
    "        z = torch.randn((len(labels), self.z_dim), device=device)\n",
    "        return self.forward(z, labels)"
   ]
  },
  {
   "cell_type": "code",
   "execution_count": 17,
   "id": "734d7ac4",
   "metadata": {},
   "outputs": [],
   "source": [
    "config = set_config({\n",
    "    \"z_dim\": 100,\n",
    "    \"n_classes\": len(train_set.classes),\n",
    "    \"batch_size\": bs\n",
    "})"
   ]
  },
  {
   "cell_type": "code",
   "execution_count": 18,
   "id": "89971928",
   "metadata": {},
   "outputs": [
    {
     "data": {
      "text/plain": [
       "10"
      ]
     },
     "execution_count": 18,
     "metadata": {},
     "output_type": "execute_result"
    }
   ],
   "source": [
    "config.n_classes"
   ]
  },
  {
   "cell_type": "markdown",
   "id": "5f599458",
   "metadata": {},
   "source": [
    "# Training preparation\n",
    "\n",
    "- tidak perlu callback dan early stopping"
   ]
  },
  {
   "cell_type": "code",
   "execution_count": 27,
   "id": "e4f01777",
   "metadata": {},
   "outputs": [],
   "source": [
    "from model_cgan import Discriminator, Generator"
   ]
  },
  {
   "cell_type": "code",
   "execution_count": 28,
   "id": "30b33f6c",
   "metadata": {},
   "outputs": [],
   "source": [
    "D = Discriminator(config.n_classes).to(device)\n",
    "G = Generator(config.z_dim, config.n_classes).to(device)\n",
    "\n",
    "criterion = nn.BCELoss()\n",
    "\n",
    "d_optimizer = optim.AdamW(D.parameters(), lr=0.0002)\n",
    "g_optimizer = optim.AdamW(G.parameters(), lr=0.0002)"
   ]
  },
  {
   "cell_type": "markdown",
   "id": "d5af8964",
   "metadata": {},
   "source": [
    "# Training"
   ]
  },
  {
   "cell_type": "code",
   "execution_count": 16,
   "id": "f5293dc4",
   "metadata": {},
   "outputs": [],
   "source": [
    "os.makedirs(\"output/GAN/\", exist_ok=True)\n",
    "os.makedirs(\"model/GAN/\", exist_ok=True)"
   ]
  },
  {
   "cell_type": "code",
   "execution_count": null,
   "id": "6f61eb87",
   "metadata": {},
   "outputs": [
    {
     "name": "stdout",
     "output_type": "stream",
     "text": [
      "Epoch:     0 | D_loss: 0.53385 | G_loss: 1.08915\n",
      "Epoch:     5 | D_loss: 0.03304 | G_loss: 20.03904\n",
      "Epoch:    10 | D_loss: 0.00174 | G_loss: 13.08765\n",
      "Epoch:    15 | D_loss: 0.16183 | G_loss: 7.07853\n",
      "Epoch:    20 | D_loss: 0.13427 | G_loss: 12.71363\n",
      "Epoch:    25 | D_loss: 0.15090 | G_loss: 6.76249\n",
      "Epoch:    30 | D_loss: 0.49544 | G_loss: 6.92281\n",
      "Epoch:    35 | D_loss: 0.16435 | G_loss: 5.21741\n",
      "Epoch:    40 | D_loss: 0.29345 | G_loss: 5.48549\n",
      "Epoch:    45 | D_loss: 0.18758 | G_loss: 4.26791\n",
      "Epoch:    50 | D_loss: 0.14180 | G_loss: 5.02771\n",
      "Epoch:    55 | D_loss: 0.45637 | G_loss: 6.53112\n",
      "Epoch:    60 | D_loss: 0.33287 | G_loss: 2.40704\n",
      "Epoch:    65 | D_loss: 0.20383 | G_loss: 2.45407\n",
      "Epoch:    70 | D_loss: 0.10645 | G_loss: 4.25715\n",
      "Epoch:    75 | D_loss: 0.02405 | G_loss: 5.92743\n",
      "Epoch:    80 | D_loss: 0.12346 | G_loss: 5.20580\n",
      "Epoch:    85 | D_loss: 0.07463 | G_loss: 6.37552\n",
      "Epoch:    90 | D_loss: 0.28937 | G_loss: 4.03237\n",
      "Epoch:    95 | D_loss: 0.14460 | G_loss: 9.43227\n"
     ]
    }
   ],
   "source": [
    "max_epochs = 300\n",
    "fix_labels = torch.randint(10, (64), device=device)\n",
    "\n",
    "for epoch in range(max_epochs):\n",
    "    D.train()\n",
    "    G.train()\n",
    "    for real_img, labels in trainloader:\n",
    "        n_data = real_img.shape[0]\n",
    "        \n",
    "        ## Real and Fake Images\n",
    "        real_img, labels = real_img.to(device), labels.to(device)\n",
    "        fake_img = G.generate(labels, device)\n",
    "        \n",
    "        ## Real and Fake Labels\n",
    "        real = torch.ones((n_data, 1), device=device)\n",
    "        fake = torch.zeros((n_data, 1), device=device)\n",
    "        \n",
    "        ## Training Discriminator\n",
    "        d_optimizer.zero_grad()\n",
    "        # Real Image -> Discriminator -> label Real\n",
    "        output = D(real_img, labels)\n",
    "        d_real_loss = criterion(output, real)\n",
    "        \n",
    "        # Fake Image -> Diskriminator -> label fake\n",
    "        output = D(fake_img.detach(), labels)\n",
    "        d_fake_loss = criterion(output, fake)\n",
    "        \n",
    "        d_loss = d_real_loss + d_fake_loss\n",
    "        d_loss.backward()\n",
    "        d_optimizer.step()\n",
    "        \n",
    "        # Training Generator\n",
    "        g_optimizer.zero_grad()\n",
    "        # Fake image -> Discriminator -> tp label real\n",
    "        output = D(fake_img, labels)\n",
    "        g_loss = criterion(output, real)\n",
    "        g_loss.backward()\n",
    "        g_optimizer.step()\n",
    "        \n",
    "    if epoch % 5 == 0:\n",
    "        print(f\"Epoch: {epoch:5} | D_loss: {d_loss/2:.5f} | G_loss: {g_loss:.5f}\")\n",
    "        \n",
    "    if epoch % 15 == 0:\n",
    "        G.eval()\n",
    "        epoch = str(epoch).zfill(4)\n",
    "        fake_img = G.generate(fix_labels, device)\n",
    "        save_image(fake_img.view(-1, 1, 28, 28), f\"output/CGAN/{epoch}.jpg\", nrow=8, normalize=True)\n",
    "        \n",
    "        torch.save(D, \"model/CGAN/discriminator.pth\")\n",
    "        torch.save(G, \"model/CGAN/generator.pth\")\n",
    "        \n",
    "        \n",
    "        "
   ]
  },
  {
   "cell_type": "markdown",
   "id": "1fff26b1",
   "metadata": {},
   "source": [
    "# Generate image"
   ]
  },
  {
   "cell_type": "code",
   "execution_count": null,
   "id": "5bf1e585",
   "metadata": {},
   "outputs": [],
   "source": [
    "model = \"CGAN\"\n",
    "G = torch.load(f\"model/{model}/generator.pth\", map_location=\"cpu\").eval()\n",
    "labels = torch.ones(64, device=device).to(int) * 6\n",
    "fake_img = G.generate(labels, device)\n",
    "save_image(fake_img.view(-1, 1, 28, 28), f\"output/{model}.jpg\", nrow=8, normalize=True)\n",
    "Image(f\"output/{model}.jpg\")"
   ]
  },
  {
   "cell_type": "code",
   "execution_count": null,
   "id": "ad6acce1",
   "metadata": {},
   "outputs": [],
   "source": []
  },
  {
   "cell_type": "code",
   "execution_count": null,
   "id": "460d1e3a",
   "metadata": {},
   "outputs": [],
   "source": []
  },
  {
   "cell_type": "code",
   "execution_count": null,
   "id": "b32e9b97",
   "metadata": {},
   "outputs": [],
   "source": []
  },
  {
   "cell_type": "code",
   "execution_count": null,
   "id": "78f86456",
   "metadata": {},
   "outputs": [],
   "source": []
  },
  {
   "cell_type": "code",
   "execution_count": null,
   "id": "0d8f6cf5",
   "metadata": {},
   "outputs": [],
   "source": []
  },
  {
   "cell_type": "code",
   "execution_count": null,
   "id": "27e4b2e2",
   "metadata": {},
   "outputs": [],
   "source": []
  }
 ],
 "metadata": {
  "kernelspec": {
   "display_name": "Python [conda env:jcop_gan]",
   "language": "python",
   "name": "conda-env-jcop_gan-py"
  },
  "language_info": {
   "codemirror_mode": {
    "name": "ipython",
    "version": 3
   },
   "file_extension": ".py",
   "mimetype": "text/x-python",
   "name": "python",
   "nbconvert_exporter": "python",
   "pygments_lexer": "ipython3",
   "version": "3.7.6"
  }
 },
 "nbformat": 4,
 "nbformat_minor": 5
}
